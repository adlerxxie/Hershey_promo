{
 "cells": [
  {
   "cell_type": "code",
   "execution_count": 34,
   "metadata": {},
   "outputs": [],
   "source": [
    "import pandas as pd\n",
    "import numpy as np\n",
    "import matplotlib.pyplot as plt\n",
    "import seaborn as sns\n",
    "\n",
    "# import data from C:\\Data\\hershey_promo_impact\\shipment_hist_weekly_with_promo_features.csv\n",
    "df = pd.read_csv(\"C:\\\\Data\\\\hershey_promo_impact\\\\shipment_hist_weekly_with_promo_features.csv\")"
   ]
  },
  {
   "cell_type": "markdown",
   "metadata": {},
   "source": [
    "Primary Key ['sales_org', 'dp_cust', 'from_loc', 'dmd_item_10', 'week_start_date']\n",
    "qty: shipment quantity\n",
    "po_qty_week_1: 1 weak ago purchase order quantity\n",
    "price_sch3: base price, time invariant\n",
    "total_expense_trade'\n",
    "forecast_cot_spend'"
   ]
  },
  {
   "cell_type": "code",
   "execution_count": 35,
   "metadata": {},
   "outputs": [],
   "source": [
    "# Columns defining the new primary key\n",
    "groupby_cols = ['sales_org', 'dp_cust', 'dmd_item_10', 'week_start_date']\n",
    "\n",
    "# Numerical columns to sum\n",
    "sum_columns = ['qty', 'po_qty_week_1', 'po_qty_week_2', 'po_qty_week_3', 'po_qty_week_4', 'po_qty_week_8']\n",
    "\n",
    "# Non-numerical columns to pick the first non-missing value\n",
    "first_non_missing_columns = [\n",
    "    'descr', 'division', 'franchise', 'subbrand', 'brand', 'packtype',\n",
    "    'ppg_family', 'ppg', 'season', 'sales_status', 'on_promotion',\n",
    "    'promotion_type', 'total_expense_trade', 'forecast_cot_spend', 'price_sch3'\n",
    "]\n",
    "\n",
    "# Define aggregation rules\n",
    "agg_dict = {col: 'sum' for col in sum_columns}\n",
    "agg_dict.update({col: 'first' for col in first_non_missing_columns})\n",
    "\n",
    "# Perform the aggregation\n",
    "aggregated_df = df.groupby(groupby_cols).agg(agg_dict).reset_index()\n"
   ]
  },
  {
   "cell_type": "code",
   "execution_count": 36,
   "metadata": {},
   "outputs": [
    {
     "name": "stdout",
     "output_type": "stream",
     "text": [
      "promotion_type\n",
      "NaN                     300634\n",
      "EDLP                     23957\n",
      "Hi Lo                    12942\n",
      "Corporate Promotions     10138\n",
      "EDLC                      6034\n",
      "Miscellaneous             4864\n",
      "Correction                4743\n",
      "Name: count, dtype: int64\n"
     ]
    }
   ],
   "source": [
    "# replace promotion_type with NA if on_promotion is 0\n",
    "aggregated_df.loc[aggregated_df['on_promotion'] == False, 'promotion_type'] = np.nan\n",
    "\n",
    "# count for each unique value of promotion_type\n",
    "print(aggregated_df['promotion_type'].value_counts(dropna=False))\n",
    "\n",
    "# create dummy variables for promotion_type\n",
    "aggregated_df = pd.get_dummies(aggregated_df, columns=['promotion_type'], dummy_na=True)\n"
   ]
  },
  {
   "cell_type": "code",
   "execution_count": 23,
   "metadata": {},
   "outputs": [
    {
     "name": "stdout",
     "output_type": "stream",
     "text": [
      "sales_org                                      object\n",
      "dp_cust                                         int64\n",
      "dmd_item_10                                     int64\n",
      "week_start_date                        datetime64[ns]\n",
      "qty                                           float64\n",
      "po_qty_week_1                                 float64\n",
      "po_qty_week_2                                 float64\n",
      "po_qty_week_3                                 float64\n",
      "po_qty_week_4                                 float64\n",
      "po_qty_week_8                                 float64\n",
      "descr                                          object\n",
      "division                                       object\n",
      "franchise                                      object\n",
      "subbrand                                       object\n",
      "brand                                          object\n",
      "packtype                                      float64\n",
      "ppg_family                                    float64\n",
      "ppg                                            object\n",
      "season                                         object\n",
      "sales_status                                   object\n",
      "on_promotion                                     bool\n",
      "total_expense_trade                           float64\n",
      "forecast_cot_spend                            float64\n",
      "price_sch3                                    float64\n",
      "promotion_type_Corporate Promotions              bool\n",
      "promotion_type_Correction                        bool\n",
      "promotion_type_EDLC                              bool\n",
      "promotion_type_EDLP                              bool\n",
      "promotion_type_Hi Lo                             bool\n",
      "promotion_type_Miscellaneous                     bool\n",
      "promotion_type_nan                               bool\n",
      "dtype: object\n"
     ]
    }
   ],
   "source": [
    "# change data type for week_start_date to datetime\n",
    "aggregated_df['week_start_date'] = pd.to_datetime(aggregated_df['week_start_date'])\n",
    "\n",
    "# check data types for each column\n",
    "# print(aggregated_df.dtypes)"
   ]
  },
  {
   "cell_type": "markdown",
   "metadata": {},
   "source": [
    "Set panel model index"
   ]
  },
  {
   "cell_type": "code",
   "execution_count": 24,
   "metadata": {},
   "outputs": [],
   "source": [
    "import pandas as pd\n",
    "from linearmodels.panel import PanelOLS\n",
    "\n",
    "# Step 1: Prepare the data\n",
    "# Create a combined unit identifier\n",
    "aggregated_df['unit_id'] = aggregated_df['sales_org'].astype(str) + '_' + \\\n",
    "                           aggregated_df['dp_cust'].astype(str) + '_' + \\\n",
    "                           aggregated_df['dmd_item_10'].astype(str)\n",
    "\n",
    "# Set multi-index for panel data\n",
    "aggregated_df = aggregated_df.set_index(['unit_id', 'week_start_date'])\n",
    "\n",
    "# Ensure the dependent variable is numeric\n",
    "aggregated_df['qty'] = pd.to_numeric(aggregated_df['qty'], errors='coerce')\n",
    "\n",
    "\n"
   ]
  },
  {
   "cell_type": "markdown",
   "metadata": {},
   "source": [
    "create x for panel analysis"
   ]
  },
  {
   "cell_type": "code",
   "execution_count": 25,
   "metadata": {},
   "outputs": [],
   "source": [
    "# Step 3: Define independent variables (X)\n",
    "x_columns = [\n",
    "    'promotion_type_Corporate Promotions',\n",
    "    'promotion_type_Correction',\n",
    "    'promotion_type_EDLC',\n",
    "    'promotion_type_EDLP',\n",
    "    'promotion_type_Hi Lo',\n",
    "    'promotion_type_Miscellaneous'\n",
    "]\n",
    "X = aggregated_df[x_columns]"
   ]
  },
  {
   "cell_type": "markdown",
   "metadata": {},
   "source": [
    "create potential y for panel analysis"
   ]
  },
  {
   "cell_type": "code",
   "execution_count": 26,
   "metadata": {},
   "outputs": [],
   "source": [
    "# create lead and lag of qty\n",
    "lags = [8,4,2,1,0]\n",
    "leads = [1,2,4, 8]\n",
    "\n",
    "# create lag and lead of qty\n",
    "for lag in lags:\n",
    "    aggregated_df[f'lag{lag}'] = aggregated_df.groupby(level='unit_id')['qty'].shift(lag)\n",
    "\n",
    "for lead in leads:\n",
    "    aggregated_df[f'lead{lead}'] = aggregated_df.groupby(level='unit_id')['qty'].shift(-lead)\n",
    "\n",
    "# create log(qty), and lead and lag of log(qty)\n",
    "aggregated_df['log_qty'] = np.log(aggregated_df['qty'] + 1)\n",
    "\n",
    "for lag in lags:\n",
    "    aggregated_df[f'log_lag{lag}'] = aggregated_df.groupby(level='unit_id')['log_qty'].shift(lag)\n",
    "\n",
    "for lead in leads:\n",
    "    aggregated_df[f'log_lead{lead}'] = aggregated_df.groupby(level='unit_id')['log_qty'].shift(-lead)"
   ]
  },
  {
   "cell_type": "markdown",
   "metadata": {},
   "source": [
    "panel for lead and lag of qty"
   ]
  },
  {
   "cell_type": "code",
   "execution_count": 27,
   "metadata": {},
   "outputs": [
    {
     "name": "stdout",
     "output_type": "stream",
     "text": [
      "Results saved to C:\\Users\\AdlerXie\\Documents\\GitHub\\Hershey_promo\\output\\log_panel_model_results.xlsx\n"
     ]
    }
   ],
   "source": [
    "# Step 4: Run panel models for each lag/lead variable\n",
    "results_summary = []\n",
    "\n",
    "for y_var in [f'log_lag{lag}' for lag in lags] + [f'log_lead{lead}' for lead in leads]:\n",
    "    y = aggregated_df[y_var].dropna()\n",
    "    X_subset = X.loc[y.index]  # Align X with the available y data\n",
    "\n",
    "    # Fit the model\n",
    "    model = PanelOLS(y, X_subset, entity_effects=True, time_effects=True)\n",
    "    results = model.fit(cov_type='clustered', cluster_entity=True)\n",
    "\n",
    "    # Store results\n",
    "    summary_dict = {\n",
    "        'Dependent Variable': y_var,\n",
    "        'R-squared': results.rsquared,\n",
    "        'Number of Observations': results.nobs\n",
    "    }\n",
    "    for var in x_columns:\n",
    "        summary_dict[f'{var}_coef'] = results.params.get(var, None)\n",
    "        summary_dict[f'{var}_pval'] = results.pvalues.get(var, None)\n",
    "    results_summary.append(summary_dict)\n",
    "\n",
    "# Step 5: Save results to Excel\n",
    "results_df = pd.DataFrame(results_summary)\n",
    "output_path = 'C:\\\\Users\\\\AdlerXie\\\\Documents\\\\GitHub\\\\Hershey_promo\\\\output\\\\log_panel_model_results.xlsx'\n",
    "results_df.to_excel(output_path, index=False)\n",
    "\n",
    "print(f\"Results saved to {output_path}\")\n"
   ]
  },
  {
   "cell_type": "markdown",
   "metadata": {},
   "source": [
    "archive"
   ]
  },
  {
   "cell_type": "markdown",
   "metadata": {},
   "source": [
    "Panel Model"
   ]
  },
  {
   "cell_type": "code",
   "execution_count": null,
   "metadata": {},
   "outputs": [
    {
     "name": "stdout",
     "output_type": "stream",
     "text": [
      "                          PanelOLS Estimation Summary                           \n",
      "================================================================================\n",
      "Dep. Variable:                log_qty   R-squared:                        0.0031\n",
      "Estimator:                   PanelOLS   R-squared (Between):              0.0114\n",
      "No. Observations:              363312   R-squared (Within):              -0.0026\n",
      "Date:                Thu, Jan 16 2025   R-squared (Overall):              0.0045\n",
      "Time:                        11:13:00   Log-likelihood                -7.467e+05\n",
      "Cov. Estimator:             Clustered                                           \n",
      "                                        F-statistic:                      184.48\n",
      "Entities:                        1682   P-value                           0.0000\n",
      "Avg Obs:                       216.00   Distribution:                F(6,361409)\n",
      "Min Obs:                       216.00                                           \n",
      "Max Obs:                       216.00   F-statistic (robust):             4.5675\n",
      "                                        P-value                           0.0001\n",
      "Time periods:                     216   Distribution:                F(6,361409)\n",
      "Avg Obs:                       1682.0                                           \n",
      "Min Obs:                       1682.0                                           \n",
      "Max Obs:                       1682.0                                           \n",
      "                                                                                \n",
      "                                          Parameter Estimates                                          \n",
      "=======================================================================================================\n",
      "                                     Parameter  Std. Err.     T-stat    P-value    Lower CI    Upper CI\n",
      "-------------------------------------------------------------------------------------------------------\n",
      "promotion_type_Corporate Promotions    -0.3041     0.1799    -1.6906     0.0909     -0.6566      0.0485\n",
      "promotion_type_Correction              -0.3438     0.2481    -1.3859     0.1658     -0.8300      0.1424\n",
      "promotion_type_EDLC                     0.1224     0.2508     0.4879     0.6256     -0.3692      0.6140\n",
      "promotion_type_EDLP                     0.2152     0.1324     1.6251     0.1042     -0.0444      0.4748\n",
      "promotion_type_Hi Lo                    0.0648     0.1646     0.3936     0.6938     -0.2578      0.3874\n",
      "promotion_type_Miscellaneous            0.9194     0.2069     4.4437     0.0000      0.5139      1.3250\n",
      "=======================================================================================================\n",
      "\n",
      "F-test for Poolability: 163.19\n",
      "P-value: 0.0000\n",
      "Distribution: F(1896,361409)\n",
      "\n",
      "Included effects: Entity, Time\n"
     ]
    }
   ],
   "source": [
    "X = aggregated_df[x_columns]\n",
    "y = aggregated_df['log_qty']\n",
    "# Step 4: Specify the panel model with fixed effects\n",
    "model = PanelOLS(y, X, entity_effects=True, time_effects=True)\n",
    "\n",
    "# Step 5: Fit the model\n",
    "results = model.fit(cov_type='clustered', cluster_entity=True)\n",
    "\n",
    "# Step 6: Summarize the results\n",
    "print(results.summary)\n"
   ]
  },
  {
   "cell_type": "markdown",
   "metadata": {},
   "source": [
    "log(qty) panel model"
   ]
  },
  {
   "cell_type": "code",
   "execution_count": 38,
   "metadata": {},
   "outputs": [],
   "source": [
    "#sort data by week_start_date, sales_org, dp_cust, dmd_item_10\n",
    "aggregated_df = aggregated_df.sort_values(by=['week_start_date', 'sales_org', 'dp_cust', 'dmd_item_10'])\n",
    "\n",
    "\n",
    "# save data to C:\\Data\\hershey_promo_impact\\aggregated_shipment_hist_weekly_with_promo_features.csv\n",
    "aggregated_df.to_csv(\"C:\\\\Data\\\\hershey_promo_impact\\\\aggregated_shipment_hist_weekly_with_promo_features.csv\", index=False)"
   ]
  }
 ],
 "metadata": {
  "kernelspec": {
   "display_name": "venv",
   "language": "python",
   "name": "python3"
  },
  "language_info": {
   "codemirror_mode": {
    "name": "ipython",
    "version": 3
   },
   "file_extension": ".py",
   "mimetype": "text/x-python",
   "name": "python",
   "nbconvert_exporter": "python",
   "pygments_lexer": "ipython3",
   "version": "3.12.3"
  }
 },
 "nbformat": 4,
 "nbformat_minor": 2
}
